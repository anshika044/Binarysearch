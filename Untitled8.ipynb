{
  "nbformat": 4,
  "nbformat_minor": 0,
  "metadata": {
    "colab": {
      "provenance": [],
      "mount_file_id": "1jA9FAC_OGuYhAf61-mAky7h4ZJ3WqqfS",
      "authorship_tag": "ABX9TyNqgkOsMfP5nqu3lsgc2OPp",
      "include_colab_link": true
    },
    "kernelspec": {
      "name": "python3",
      "display_name": "Python 3"
    },
    "language_info": {
      "name": "python"
    }
  },
  "cells": [
    {
      "cell_type": "markdown",
      "metadata": {
        "id": "view-in-github",
        "colab_type": "text"
      },
      "source": [
        "<a href=\"https://colab.research.google.com/github/anshika044/Binarysearch/blob/main/Untitled8.ipynb\" target=\"_parent\"><img src=\"https://colab.research.google.com/assets/colab-badge.svg\" alt=\"Open In Colab\"/></a>"
      ]
    },
    {
      "cell_type": "code",
      "execution_count": null,
      "metadata": {
        "id": "wqEmZRB-dxcY"
      },
      "outputs": [],
      "source": [
        "import pandas as pd\n",
        "import numpy as np\n",
        "import seaborn as sns\n",
        "import matplotlib.pyplot as plt\n",
        "%matplotlib inline\n",
        "import warnings\n",
        "warnings.filterwarnings(\"ignore\")"
      ]
    },
    {
      "cell_type": "code",
      "source": [
        "train_users = pd.read_csv(\"/content/drive/MyDrive/train-users.csv\")\n"
      ],
      "metadata": {
        "id": "fVmXZrPbeDT5"
      },
      "execution_count": null,
      "outputs": []
    },
    {
      "cell_type": "code",
      "source": [
        "test_users = pd.read_csv(\"/content/drive/MyDrive/test-user.csv\")"
      ],
      "metadata": {
        "id": "g1LWwe0jBbnJ"
      },
      "execution_count": null,
      "outputs": []
    },
    {
      "cell_type": "code",
      "source": [
        "train_users.head()"
      ],
      "metadata": {
        "colab": {
          "base_uri": "https://localhost:8080/",
          "height": 261
        },
        "id": "e28lsedyBoFd",
        "outputId": "1025ba5f-11d6-4a44-e0c6-5cd9de21309f"
      },
      "execution_count": null,
      "outputs": [
        {
          "output_type": "execute_result",
          "data": {
            "text/plain": [
              "           id date_account_created  timestamp_first_active date_first_booking  \\\n",
              "0  gxn3p5htnn           28-06-2010            2.009030e+13                NaN   \n",
              "1  820tgsjxq7           25-05-2011            2.009050e+13                NaN   \n",
              "2  4ft3gnwmtx           28-09-2010            2.009060e+13         02-08-2010   \n",
              "3  bjjt8pjhuk           05-12-2011            2.009100e+13         08-09-2012   \n",
              "4  87mebub9p4           14-09-2010            2.009120e+13         18-02-2010   \n",
              "\n",
              "      gender   age signup_method  signup_flow language affiliate_channel  \\\n",
              "0  -unknown-   NaN      facebook            0       en            direct   \n",
              "1       MALE  38.0      facebook            0       en               seo   \n",
              "2     FEMALE  56.0         basic            3       en            direct   \n",
              "3     FEMALE  42.0      facebook            0       en            direct   \n",
              "4  -unknown-  41.0         basic            0       en            direct   \n",
              "\n",
              "  affiliate_provider first_affiliate_tracked signup_app first_device_type  \\\n",
              "0             direct               untracked        Web       Mac Desktop   \n",
              "1             google               untracked        Web       Mac Desktop   \n",
              "2             direct               untracked        Web   Windows Desktop   \n",
              "3             direct               untracked        Web       Mac Desktop   \n",
              "4             direct               untracked        Web       Mac Desktop   \n",
              "\n",
              "  first_browser country_destination  \n",
              "0        Chrome                 NDF  \n",
              "1        Chrome                 NDF  \n",
              "2            IE                  US  \n",
              "3       Firefox               other  \n",
              "4        Chrome                  US  "
            ],
            "text/html": [
              "\n",
              "  <div id=\"df-c8574e76-34b6-48f1-95c7-619f1028997b\" class=\"colab-df-container\">\n",
              "    <div>\n",
              "<style scoped>\n",
              "    .dataframe tbody tr th:only-of-type {\n",
              "        vertical-align: middle;\n",
              "    }\n",
              "\n",
              "    .dataframe tbody tr th {\n",
              "        vertical-align: top;\n",
              "    }\n",
              "\n",
              "    .dataframe thead th {\n",
              "        text-align: right;\n",
              "    }\n",
              "</style>\n",
              "<table border=\"1\" class=\"dataframe\">\n",
              "  <thead>\n",
              "    <tr style=\"text-align: right;\">\n",
              "      <th></th>\n",
              "      <th>id</th>\n",
              "      <th>date_account_created</th>\n",
              "      <th>timestamp_first_active</th>\n",
              "      <th>date_first_booking</th>\n",
              "      <th>gender</th>\n",
              "      <th>age</th>\n",
              "      <th>signup_method</th>\n",
              "      <th>signup_flow</th>\n",
              "      <th>language</th>\n",
              "      <th>affiliate_channel</th>\n",
              "      <th>affiliate_provider</th>\n",
              "      <th>first_affiliate_tracked</th>\n",
              "      <th>signup_app</th>\n",
              "      <th>first_device_type</th>\n",
              "      <th>first_browser</th>\n",
              "      <th>country_destination</th>\n",
              "    </tr>\n",
              "  </thead>\n",
              "  <tbody>\n",
              "    <tr>\n",
              "      <th>0</th>\n",
              "      <td>gxn3p5htnn</td>\n",
              "      <td>28-06-2010</td>\n",
              "      <td>2.009030e+13</td>\n",
              "      <td>NaN</td>\n",
              "      <td>-unknown-</td>\n",
              "      <td>NaN</td>\n",
              "      <td>facebook</td>\n",
              "      <td>0</td>\n",
              "      <td>en</td>\n",
              "      <td>direct</td>\n",
              "      <td>direct</td>\n",
              "      <td>untracked</td>\n",
              "      <td>Web</td>\n",
              "      <td>Mac Desktop</td>\n",
              "      <td>Chrome</td>\n",
              "      <td>NDF</td>\n",
              "    </tr>\n",
              "    <tr>\n",
              "      <th>1</th>\n",
              "      <td>820tgsjxq7</td>\n",
              "      <td>25-05-2011</td>\n",
              "      <td>2.009050e+13</td>\n",
              "      <td>NaN</td>\n",
              "      <td>MALE</td>\n",
              "      <td>38.0</td>\n",
              "      <td>facebook</td>\n",
              "      <td>0</td>\n",
              "      <td>en</td>\n",
              "      <td>seo</td>\n",
              "      <td>google</td>\n",
              "      <td>untracked</td>\n",
              "      <td>Web</td>\n",
              "      <td>Mac Desktop</td>\n",
              "      <td>Chrome</td>\n",
              "      <td>NDF</td>\n",
              "    </tr>\n",
              "    <tr>\n",
              "      <th>2</th>\n",
              "      <td>4ft3gnwmtx</td>\n",
              "      <td>28-09-2010</td>\n",
              "      <td>2.009060e+13</td>\n",
              "      <td>02-08-2010</td>\n",
              "      <td>FEMALE</td>\n",
              "      <td>56.0</td>\n",
              "      <td>basic</td>\n",
              "      <td>3</td>\n",
              "      <td>en</td>\n",
              "      <td>direct</td>\n",
              "      <td>direct</td>\n",
              "      <td>untracked</td>\n",
              "      <td>Web</td>\n",
              "      <td>Windows Desktop</td>\n",
              "      <td>IE</td>\n",
              "      <td>US</td>\n",
              "    </tr>\n",
              "    <tr>\n",
              "      <th>3</th>\n",
              "      <td>bjjt8pjhuk</td>\n",
              "      <td>05-12-2011</td>\n",
              "      <td>2.009100e+13</td>\n",
              "      <td>08-09-2012</td>\n",
              "      <td>FEMALE</td>\n",
              "      <td>42.0</td>\n",
              "      <td>facebook</td>\n",
              "      <td>0</td>\n",
              "      <td>en</td>\n",
              "      <td>direct</td>\n",
              "      <td>direct</td>\n",
              "      <td>untracked</td>\n",
              "      <td>Web</td>\n",
              "      <td>Mac Desktop</td>\n",
              "      <td>Firefox</td>\n",
              "      <td>other</td>\n",
              "    </tr>\n",
              "    <tr>\n",
              "      <th>4</th>\n",
              "      <td>87mebub9p4</td>\n",
              "      <td>14-09-2010</td>\n",
              "      <td>2.009120e+13</td>\n",
              "      <td>18-02-2010</td>\n",
              "      <td>-unknown-</td>\n",
              "      <td>41.0</td>\n",
              "      <td>basic</td>\n",
              "      <td>0</td>\n",
              "      <td>en</td>\n",
              "      <td>direct</td>\n",
              "      <td>direct</td>\n",
              "      <td>untracked</td>\n",
              "      <td>Web</td>\n",
              "      <td>Mac Desktop</td>\n",
              "      <td>Chrome</td>\n",
              "      <td>US</td>\n",
              "    </tr>\n",
              "  </tbody>\n",
              "</table>\n",
              "</div>\n",
              "    <div class=\"colab-df-buttons\">\n",
              "\n",
              "  <div class=\"colab-df-container\">\n",
              "    <button class=\"colab-df-convert\" onclick=\"convertToInteractive('df-c8574e76-34b6-48f1-95c7-619f1028997b')\"\n",
              "            title=\"Convert this dataframe to an interactive table.\"\n",
              "            style=\"display:none;\">\n",
              "\n",
              "  <svg xmlns=\"http://www.w3.org/2000/svg\" height=\"24px\" viewBox=\"0 -960 960 960\">\n",
              "    <path d=\"M120-120v-720h720v720H120Zm60-500h600v-160H180v160Zm220 220h160v-160H400v160Zm0 220h160v-160H400v160ZM180-400h160v-160H180v160Zm440 0h160v-160H620v160ZM180-180h160v-160H180v160Zm440 0h160v-160H620v160Z\"/>\n",
              "  </svg>\n",
              "    </button>\n",
              "\n",
              "  <style>\n",
              "    .colab-df-container {\n",
              "      display:flex;\n",
              "      gap: 12px;\n",
              "    }\n",
              "\n",
              "    .colab-df-convert {\n",
              "      background-color: #E8F0FE;\n",
              "      border: none;\n",
              "      border-radius: 50%;\n",
              "      cursor: pointer;\n",
              "      display: none;\n",
              "      fill: #1967D2;\n",
              "      height: 32px;\n",
              "      padding: 0 0 0 0;\n",
              "      width: 32px;\n",
              "    }\n",
              "\n",
              "    .colab-df-convert:hover {\n",
              "      background-color: #E2EBFA;\n",
              "      box-shadow: 0px 1px 2px rgba(60, 64, 67, 0.3), 0px 1px 3px 1px rgba(60, 64, 67, 0.15);\n",
              "      fill: #174EA6;\n",
              "    }\n",
              "\n",
              "    .colab-df-buttons div {\n",
              "      margin-bottom: 4px;\n",
              "    }\n",
              "\n",
              "    [theme=dark] .colab-df-convert {\n",
              "      background-color: #3B4455;\n",
              "      fill: #D2E3FC;\n",
              "    }\n",
              "\n",
              "    [theme=dark] .colab-df-convert:hover {\n",
              "      background-color: #434B5C;\n",
              "      box-shadow: 0px 1px 3px 1px rgba(0, 0, 0, 0.15);\n",
              "      filter: drop-shadow(0px 1px 2px rgba(0, 0, 0, 0.3));\n",
              "      fill: #FFFFFF;\n",
              "    }\n",
              "  </style>\n",
              "\n",
              "    <script>\n",
              "      const buttonEl =\n",
              "        document.querySelector('#df-c8574e76-34b6-48f1-95c7-619f1028997b button.colab-df-convert');\n",
              "      buttonEl.style.display =\n",
              "        google.colab.kernel.accessAllowed ? 'block' : 'none';\n",
              "\n",
              "      async function convertToInteractive(key) {\n",
              "        const element = document.querySelector('#df-c8574e76-34b6-48f1-95c7-619f1028997b');\n",
              "        const dataTable =\n",
              "          await google.colab.kernel.invokeFunction('convertToInteractive',\n",
              "                                                    [key], {});\n",
              "        if (!dataTable) return;\n",
              "\n",
              "        const docLinkHtml = 'Like what you see? Visit the ' +\n",
              "          '<a target=\"_blank\" href=https://colab.research.google.com/notebooks/data_table.ipynb>data table notebook</a>'\n",
              "          + ' to learn more about interactive tables.';\n",
              "        element.innerHTML = '';\n",
              "        dataTable['output_type'] = 'display_data';\n",
              "        await google.colab.output.renderOutput(dataTable, element);\n",
              "        const docLink = document.createElement('div');\n",
              "        docLink.innerHTML = docLinkHtml;\n",
              "        element.appendChild(docLink);\n",
              "      }\n",
              "    </script>\n",
              "  </div>\n",
              "\n",
              "\n",
              "<div id=\"df-ee6db888-c2de-4349-b60e-1a9b8bd106b3\">\n",
              "  <button class=\"colab-df-quickchart\" onclick=\"quickchart('df-ee6db888-c2de-4349-b60e-1a9b8bd106b3')\"\n",
              "            title=\"Suggest charts\"\n",
              "            style=\"display:none;\">\n",
              "\n",
              "<svg xmlns=\"http://www.w3.org/2000/svg\" height=\"24px\"viewBox=\"0 0 24 24\"\n",
              "     width=\"24px\">\n",
              "    <g>\n",
              "        <path d=\"M19 3H5c-1.1 0-2 .9-2 2v14c0 1.1.9 2 2 2h14c1.1 0 2-.9 2-2V5c0-1.1-.9-2-2-2zM9 17H7v-7h2v7zm4 0h-2V7h2v10zm4 0h-2v-4h2v4z\"/>\n",
              "    </g>\n",
              "</svg>\n",
              "  </button>\n",
              "\n",
              "<style>\n",
              "  .colab-df-quickchart {\n",
              "      --bg-color: #E8F0FE;\n",
              "      --fill-color: #1967D2;\n",
              "      --hover-bg-color: #E2EBFA;\n",
              "      --hover-fill-color: #174EA6;\n",
              "      --disabled-fill-color: #AAA;\n",
              "      --disabled-bg-color: #DDD;\n",
              "  }\n",
              "\n",
              "  [theme=dark] .colab-df-quickchart {\n",
              "      --bg-color: #3B4455;\n",
              "      --fill-color: #D2E3FC;\n",
              "      --hover-bg-color: #434B5C;\n",
              "      --hover-fill-color: #FFFFFF;\n",
              "      --disabled-bg-color: #3B4455;\n",
              "      --disabled-fill-color: #666;\n",
              "  }\n",
              "\n",
              "  .colab-df-quickchart {\n",
              "    background-color: var(--bg-color);\n",
              "    border: none;\n",
              "    border-radius: 50%;\n",
              "    cursor: pointer;\n",
              "    display: none;\n",
              "    fill: var(--fill-color);\n",
              "    height: 32px;\n",
              "    padding: 0;\n",
              "    width: 32px;\n",
              "  }\n",
              "\n",
              "  .colab-df-quickchart:hover {\n",
              "    background-color: var(--hover-bg-color);\n",
              "    box-shadow: 0 1px 2px rgba(60, 64, 67, 0.3), 0 1px 3px 1px rgba(60, 64, 67, 0.15);\n",
              "    fill: var(--button-hover-fill-color);\n",
              "  }\n",
              "\n",
              "  .colab-df-quickchart-complete:disabled,\n",
              "  .colab-df-quickchart-complete:disabled:hover {\n",
              "    background-color: var(--disabled-bg-color);\n",
              "    fill: var(--disabled-fill-color);\n",
              "    box-shadow: none;\n",
              "  }\n",
              "\n",
              "  .colab-df-spinner {\n",
              "    border: 2px solid var(--fill-color);\n",
              "    border-color: transparent;\n",
              "    border-bottom-color: var(--fill-color);\n",
              "    animation:\n",
              "      spin 1s steps(1) infinite;\n",
              "  }\n",
              "\n",
              "  @keyframes spin {\n",
              "    0% {\n",
              "      border-color: transparent;\n",
              "      border-bottom-color: var(--fill-color);\n",
              "      border-left-color: var(--fill-color);\n",
              "    }\n",
              "    20% {\n",
              "      border-color: transparent;\n",
              "      border-left-color: var(--fill-color);\n",
              "      border-top-color: var(--fill-color);\n",
              "    }\n",
              "    30% {\n",
              "      border-color: transparent;\n",
              "      border-left-color: var(--fill-color);\n",
              "      border-top-color: var(--fill-color);\n",
              "      border-right-color: var(--fill-color);\n",
              "    }\n",
              "    40% {\n",
              "      border-color: transparent;\n",
              "      border-right-color: var(--fill-color);\n",
              "      border-top-color: var(--fill-color);\n",
              "    }\n",
              "    60% {\n",
              "      border-color: transparent;\n",
              "      border-right-color: var(--fill-color);\n",
              "    }\n",
              "    80% {\n",
              "      border-color: transparent;\n",
              "      border-right-color: var(--fill-color);\n",
              "      border-bottom-color: var(--fill-color);\n",
              "    }\n",
              "    90% {\n",
              "      border-color: transparent;\n",
              "      border-bottom-color: var(--fill-color);\n",
              "    }\n",
              "  }\n",
              "</style>\n",
              "\n",
              "  <script>\n",
              "    async function quickchart(key) {\n",
              "      const quickchartButtonEl =\n",
              "        document.querySelector('#' + key + ' button');\n",
              "      quickchartButtonEl.disabled = true;  // To prevent multiple clicks.\n",
              "      quickchartButtonEl.classList.add('colab-df-spinner');\n",
              "      try {\n",
              "        const charts = await google.colab.kernel.invokeFunction(\n",
              "            'suggestCharts', [key], {});\n",
              "      } catch (error) {\n",
              "        console.error('Error during call to suggestCharts:', error);\n",
              "      }\n",
              "      quickchartButtonEl.classList.remove('colab-df-spinner');\n",
              "      quickchartButtonEl.classList.add('colab-df-quickchart-complete');\n",
              "    }\n",
              "    (() => {\n",
              "      let quickchartButtonEl =\n",
              "        document.querySelector('#df-ee6db888-c2de-4349-b60e-1a9b8bd106b3 button');\n",
              "      quickchartButtonEl.style.display =\n",
              "        google.colab.kernel.accessAllowed ? 'block' : 'none';\n",
              "    })();\n",
              "  </script>\n",
              "</div>\n",
              "\n",
              "    </div>\n",
              "  </div>\n"
            ],
            "application/vnd.google.colaboratory.intrinsic+json": {
              "type": "dataframe",
              "variable_name": "train_users"
            }
          },
          "metadata": {},
          "execution_count": 413
        }
      ]
    },
    {
      "cell_type": "code",
      "source": [
        "test_users.head()"
      ],
      "metadata": {
        "colab": {
          "base_uri": "https://localhost:8080/",
          "height": 295
        },
        "id": "VL5PDjjHBswJ",
        "outputId": "03777a6e-4ebc-408a-c264-1cfe06a459dc"
      },
      "execution_count": null,
      "outputs": [
        {
          "output_type": "execute_result",
          "data": {
            "text/plain": [
              "           id date_account_created  timestamp_first_active  \\\n",
              "0  5uwns89zht           01-07-2014            2.014070e+13   \n",
              "1  jtl0dijy2j           01-07-2014            2.014070e+13   \n",
              "2  xx0ulgorjt           01-07-2014            2.014070e+13   \n",
              "3  6c6puo6ix0           01-07-2014            2.014070e+13   \n",
              "4  czqhjk3yfe           01-07-2014            2.014070e+13   \n",
              "\n",
              "   date_first_booking     gender   age signup_method  signup_flow language  \\\n",
              "0                 NaN     FEMALE  35.0      facebook            0       en   \n",
              "1                 NaN  -unknown-   NaN         basic            0       en   \n",
              "2                 NaN  -unknown-   NaN         basic            0       en   \n",
              "3                 NaN  -unknown-   NaN         basic            0       en   \n",
              "4                 NaN  -unknown-   NaN         basic            0       en   \n",
              "\n",
              "  affiliate_channel affiliate_provider first_affiliate_tracked signup_app  \\\n",
              "0            direct             direct               untracked      Moweb   \n",
              "1            direct             direct               untracked      Moweb   \n",
              "2            direct             direct                  linked        Web   \n",
              "3            direct             direct                  linked        Web   \n",
              "4            direct             direct               untracked        Web   \n",
              "\n",
              "  first_device_type  first_browser  \n",
              "0            iPhone  Mobile Safari  \n",
              "1            iPhone  Mobile Safari  \n",
              "2   Windows Desktop         Chrome  \n",
              "3   Windows Desktop             IE  \n",
              "4       Mac Desktop         Safari  "
            ],
            "text/html": [
              "\n",
              "  <div id=\"df-dcd1dbca-28ef-4157-99f0-51f2a4c464c2\" class=\"colab-df-container\">\n",
              "    <div>\n",
              "<style scoped>\n",
              "    .dataframe tbody tr th:only-of-type {\n",
              "        vertical-align: middle;\n",
              "    }\n",
              "\n",
              "    .dataframe tbody tr th {\n",
              "        vertical-align: top;\n",
              "    }\n",
              "\n",
              "    .dataframe thead th {\n",
              "        text-align: right;\n",
              "    }\n",
              "</style>\n",
              "<table border=\"1\" class=\"dataframe\">\n",
              "  <thead>\n",
              "    <tr style=\"text-align: right;\">\n",
              "      <th></th>\n",
              "      <th>id</th>\n",
              "      <th>date_account_created</th>\n",
              "      <th>timestamp_first_active</th>\n",
              "      <th>date_first_booking</th>\n",
              "      <th>gender</th>\n",
              "      <th>age</th>\n",
              "      <th>signup_method</th>\n",
              "      <th>signup_flow</th>\n",
              "      <th>language</th>\n",
              "      <th>affiliate_channel</th>\n",
              "      <th>affiliate_provider</th>\n",
              "      <th>first_affiliate_tracked</th>\n",
              "      <th>signup_app</th>\n",
              "      <th>first_device_type</th>\n",
              "      <th>first_browser</th>\n",
              "    </tr>\n",
              "  </thead>\n",
              "  <tbody>\n",
              "    <tr>\n",
              "      <th>0</th>\n",
              "      <td>5uwns89zht</td>\n",
              "      <td>01-07-2014</td>\n",
              "      <td>2.014070e+13</td>\n",
              "      <td>NaN</td>\n",
              "      <td>FEMALE</td>\n",
              "      <td>35.0</td>\n",
              "      <td>facebook</td>\n",
              "      <td>0</td>\n",
              "      <td>en</td>\n",
              "      <td>direct</td>\n",
              "      <td>direct</td>\n",
              "      <td>untracked</td>\n",
              "      <td>Moweb</td>\n",
              "      <td>iPhone</td>\n",
              "      <td>Mobile Safari</td>\n",
              "    </tr>\n",
              "    <tr>\n",
              "      <th>1</th>\n",
              "      <td>jtl0dijy2j</td>\n",
              "      <td>01-07-2014</td>\n",
              "      <td>2.014070e+13</td>\n",
              "      <td>NaN</td>\n",
              "      <td>-unknown-</td>\n",
              "      <td>NaN</td>\n",
              "      <td>basic</td>\n",
              "      <td>0</td>\n",
              "      <td>en</td>\n",
              "      <td>direct</td>\n",
              "      <td>direct</td>\n",
              "      <td>untracked</td>\n",
              "      <td>Moweb</td>\n",
              "      <td>iPhone</td>\n",
              "      <td>Mobile Safari</td>\n",
              "    </tr>\n",
              "    <tr>\n",
              "      <th>2</th>\n",
              "      <td>xx0ulgorjt</td>\n",
              "      <td>01-07-2014</td>\n",
              "      <td>2.014070e+13</td>\n",
              "      <td>NaN</td>\n",
              "      <td>-unknown-</td>\n",
              "      <td>NaN</td>\n",
              "      <td>basic</td>\n",
              "      <td>0</td>\n",
              "      <td>en</td>\n",
              "      <td>direct</td>\n",
              "      <td>direct</td>\n",
              "      <td>linked</td>\n",
              "      <td>Web</td>\n",
              "      <td>Windows Desktop</td>\n",
              "      <td>Chrome</td>\n",
              "    </tr>\n",
              "    <tr>\n",
              "      <th>3</th>\n",
              "      <td>6c6puo6ix0</td>\n",
              "      <td>01-07-2014</td>\n",
              "      <td>2.014070e+13</td>\n",
              "      <td>NaN</td>\n",
              "      <td>-unknown-</td>\n",
              "      <td>NaN</td>\n",
              "      <td>basic</td>\n",
              "      <td>0</td>\n",
              "      <td>en</td>\n",
              "      <td>direct</td>\n",
              "      <td>direct</td>\n",
              "      <td>linked</td>\n",
              "      <td>Web</td>\n",
              "      <td>Windows Desktop</td>\n",
              "      <td>IE</td>\n",
              "    </tr>\n",
              "    <tr>\n",
              "      <th>4</th>\n",
              "      <td>czqhjk3yfe</td>\n",
              "      <td>01-07-2014</td>\n",
              "      <td>2.014070e+13</td>\n",
              "      <td>NaN</td>\n",
              "      <td>-unknown-</td>\n",
              "      <td>NaN</td>\n",
              "      <td>basic</td>\n",
              "      <td>0</td>\n",
              "      <td>en</td>\n",
              "      <td>direct</td>\n",
              "      <td>direct</td>\n",
              "      <td>untracked</td>\n",
              "      <td>Web</td>\n",
              "      <td>Mac Desktop</td>\n",
              "      <td>Safari</td>\n",
              "    </tr>\n",
              "  </tbody>\n",
              "</table>\n",
              "</div>\n",
              "    <div class=\"colab-df-buttons\">\n",
              "\n",
              "  <div class=\"colab-df-container\">\n",
              "    <button class=\"colab-df-convert\" onclick=\"convertToInteractive('df-dcd1dbca-28ef-4157-99f0-51f2a4c464c2')\"\n",
              "            title=\"Convert this dataframe to an interactive table.\"\n",
              "            style=\"display:none;\">\n",
              "\n",
              "  <svg xmlns=\"http://www.w3.org/2000/svg\" height=\"24px\" viewBox=\"0 -960 960 960\">\n",
              "    <path d=\"M120-120v-720h720v720H120Zm60-500h600v-160H180v160Zm220 220h160v-160H400v160Zm0 220h160v-160H400v160ZM180-400h160v-160H180v160Zm440 0h160v-160H620v160ZM180-180h160v-160H180v160Zm440 0h160v-160H620v160Z\"/>\n",
              "  </svg>\n",
              "    </button>\n",
              "\n",
              "  <style>\n",
              "    .colab-df-container {\n",
              "      display:flex;\n",
              "      gap: 12px;\n",
              "    }\n",
              "\n",
              "    .colab-df-convert {\n",
              "      background-color: #E8F0FE;\n",
              "      border: none;\n",
              "      border-radius: 50%;\n",
              "      cursor: pointer;\n",
              "      display: none;\n",
              "      fill: #1967D2;\n",
              "      height: 32px;\n",
              "      padding: 0 0 0 0;\n",
              "      width: 32px;\n",
              "    }\n",
              "\n",
              "    .colab-df-convert:hover {\n",
              "      background-color: #E2EBFA;\n",
              "      box-shadow: 0px 1px 2px rgba(60, 64, 67, 0.3), 0px 1px 3px 1px rgba(60, 64, 67, 0.15);\n",
              "      fill: #174EA6;\n",
              "    }\n",
              "\n",
              "    .colab-df-buttons div {\n",
              "      margin-bottom: 4px;\n",
              "    }\n",
              "\n",
              "    [theme=dark] .colab-df-convert {\n",
              "      background-color: #3B4455;\n",
              "      fill: #D2E3FC;\n",
              "    }\n",
              "\n",
              "    [theme=dark] .colab-df-convert:hover {\n",
              "      background-color: #434B5C;\n",
              "      box-shadow: 0px 1px 3px 1px rgba(0, 0, 0, 0.15);\n",
              "      filter: drop-shadow(0px 1px 2px rgba(0, 0, 0, 0.3));\n",
              "      fill: #FFFFFF;\n",
              "    }\n",
              "  </style>\n",
              "\n",
              "    <script>\n",
              "      const buttonEl =\n",
              "        document.querySelector('#df-dcd1dbca-28ef-4157-99f0-51f2a4c464c2 button.colab-df-convert');\n",
              "      buttonEl.style.display =\n",
              "        google.colab.kernel.accessAllowed ? 'block' : 'none';\n",
              "\n",
              "      async function convertToInteractive(key) {\n",
              "        const element = document.querySelector('#df-dcd1dbca-28ef-4157-99f0-51f2a4c464c2');\n",
              "        const dataTable =\n",
              "          await google.colab.kernel.invokeFunction('convertToInteractive',\n",
              "                                                    [key], {});\n",
              "        if (!dataTable) return;\n",
              "\n",
              "        const docLinkHtml = 'Like what you see? Visit the ' +\n",
              "          '<a target=\"_blank\" href=https://colab.research.google.com/notebooks/data_table.ipynb>data table notebook</a>'\n",
              "          + ' to learn more about interactive tables.';\n",
              "        element.innerHTML = '';\n",
              "        dataTable['output_type'] = 'display_data';\n",
              "        await google.colab.output.renderOutput(dataTable, element);\n",
              "        const docLink = document.createElement('div');\n",
              "        docLink.innerHTML = docLinkHtml;\n",
              "        element.appendChild(docLink);\n",
              "      }\n",
              "    </script>\n",
              "  </div>\n",
              "\n",
              "\n",
              "<div id=\"df-8945fb32-be4f-44de-b0c3-1c262fd19e27\">\n",
              "  <button class=\"colab-df-quickchart\" onclick=\"quickchart('df-8945fb32-be4f-44de-b0c3-1c262fd19e27')\"\n",
              "            title=\"Suggest charts\"\n",
              "            style=\"display:none;\">\n",
              "\n",
              "<svg xmlns=\"http://www.w3.org/2000/svg\" height=\"24px\"viewBox=\"0 0 24 24\"\n",
              "     width=\"24px\">\n",
              "    <g>\n",
              "        <path d=\"M19 3H5c-1.1 0-2 .9-2 2v14c0 1.1.9 2 2 2h14c1.1 0 2-.9 2-2V5c0-1.1-.9-2-2-2zM9 17H7v-7h2v7zm4 0h-2V7h2v10zm4 0h-2v-4h2v4z\"/>\n",
              "    </g>\n",
              "</svg>\n",
              "  </button>\n",
              "\n",
              "<style>\n",
              "  .colab-df-quickchart {\n",
              "      --bg-color: #E8F0FE;\n",
              "      --fill-color: #1967D2;\n",
              "      --hover-bg-color: #E2EBFA;\n",
              "      --hover-fill-color: #174EA6;\n",
              "      --disabled-fill-color: #AAA;\n",
              "      --disabled-bg-color: #DDD;\n",
              "  }\n",
              "\n",
              "  [theme=dark] .colab-df-quickchart {\n",
              "      --bg-color: #3B4455;\n",
              "      --fill-color: #D2E3FC;\n",
              "      --hover-bg-color: #434B5C;\n",
              "      --hover-fill-color: #FFFFFF;\n",
              "      --disabled-bg-color: #3B4455;\n",
              "      --disabled-fill-color: #666;\n",
              "  }\n",
              "\n",
              "  .colab-df-quickchart {\n",
              "    background-color: var(--bg-color);\n",
              "    border: none;\n",
              "    border-radius: 50%;\n",
              "    cursor: pointer;\n",
              "    display: none;\n",
              "    fill: var(--fill-color);\n",
              "    height: 32px;\n",
              "    padding: 0;\n",
              "    width: 32px;\n",
              "  }\n",
              "\n",
              "  .colab-df-quickchart:hover {\n",
              "    background-color: var(--hover-bg-color);\n",
              "    box-shadow: 0 1px 2px rgba(60, 64, 67, 0.3), 0 1px 3px 1px rgba(60, 64, 67, 0.15);\n",
              "    fill: var(--button-hover-fill-color);\n",
              "  }\n",
              "\n",
              "  .colab-df-quickchart-complete:disabled,\n",
              "  .colab-df-quickchart-complete:disabled:hover {\n",
              "    background-color: var(--disabled-bg-color);\n",
              "    fill: var(--disabled-fill-color);\n",
              "    box-shadow: none;\n",
              "  }\n",
              "\n",
              "  .colab-df-spinner {\n",
              "    border: 2px solid var(--fill-color);\n",
              "    border-color: transparent;\n",
              "    border-bottom-color: var(--fill-color);\n",
              "    animation:\n",
              "      spin 1s steps(1) infinite;\n",
              "  }\n",
              "\n",
              "  @keyframes spin {\n",
              "    0% {\n",
              "      border-color: transparent;\n",
              "      border-bottom-color: var(--fill-color);\n",
              "      border-left-color: var(--fill-color);\n",
              "    }\n",
              "    20% {\n",
              "      border-color: transparent;\n",
              "      border-left-color: var(--fill-color);\n",
              "      border-top-color: var(--fill-color);\n",
              "    }\n",
              "    30% {\n",
              "      border-color: transparent;\n",
              "      border-left-color: var(--fill-color);\n",
              "      border-top-color: var(--fill-color);\n",
              "      border-right-color: var(--fill-color);\n",
              "    }\n",
              "    40% {\n",
              "      border-color: transparent;\n",
              "      border-right-color: var(--fill-color);\n",
              "      border-top-color: var(--fill-color);\n",
              "    }\n",
              "    60% {\n",
              "      border-color: transparent;\n",
              "      border-right-color: var(--fill-color);\n",
              "    }\n",
              "    80% {\n",
              "      border-color: transparent;\n",
              "      border-right-color: var(--fill-color);\n",
              "      border-bottom-color: var(--fill-color);\n",
              "    }\n",
              "    90% {\n",
              "      border-color: transparent;\n",
              "      border-bottom-color: var(--fill-color);\n",
              "    }\n",
              "  }\n",
              "</style>\n",
              "\n",
              "  <script>\n",
              "    async function quickchart(key) {\n",
              "      const quickchartButtonEl =\n",
              "        document.querySelector('#' + key + ' button');\n",
              "      quickchartButtonEl.disabled = true;  // To prevent multiple clicks.\n",
              "      quickchartButtonEl.classList.add('colab-df-spinner');\n",
              "      try {\n",
              "        const charts = await google.colab.kernel.invokeFunction(\n",
              "            'suggestCharts', [key], {});\n",
              "      } catch (error) {\n",
              "        console.error('Error during call to suggestCharts:', error);\n",
              "      }\n",
              "      quickchartButtonEl.classList.remove('colab-df-spinner');\n",
              "      quickchartButtonEl.classList.add('colab-df-quickchart-complete');\n",
              "    }\n",
              "    (() => {\n",
              "      let quickchartButtonEl =\n",
              "        document.querySelector('#df-8945fb32-be4f-44de-b0c3-1c262fd19e27 button');\n",
              "      quickchartButtonEl.style.display =\n",
              "        google.colab.kernel.accessAllowed ? 'block' : 'none';\n",
              "    })();\n",
              "  </script>\n",
              "</div>\n",
              "\n",
              "    </div>\n",
              "  </div>\n"
            ],
            "application/vnd.google.colaboratory.intrinsic+json": {
              "type": "dataframe",
              "variable_name": "test_users",
              "summary": "{\n  \"name\": \"test_users\",\n  \"rows\": 62096,\n  \"fields\": [\n    {\n      \"column\": \"id\",\n      \"properties\": {\n        \"dtype\": \"string\",\n        \"num_unique_values\": 62096,\n        \"samples\": [\n          \"j7g7kifce0\",\n          \"p9q04u512e\",\n          \"r47y1v6dj5\"\n        ],\n        \"semantic_type\": \"\",\n        \"description\": \"\"\n      }\n    },\n    {\n      \"column\": \"date_account_created\",\n      \"properties\": {\n        \"dtype\": \"category\",\n        \"num_unique_values\": 92,\n        \"samples\": [\n          \"10-08-2014\",\n          \"23-07-2014\",\n          \"25-08-2014\"\n        ],\n        \"semantic_type\": \"\",\n        \"description\": \"\"\n      }\n    },\n    {\n      \"column\": \"timestamp_first_active\",\n      \"properties\": {\n        \"dtype\": \"number\",\n        \"std\": 80593360.62384231,\n        \"min\": 20140700000000.0,\n        \"max\": 20140900000000.0,\n        \"num_unique_values\": 3,\n        \"samples\": [\n          20140700000000.0,\n          20140800000000.0,\n          20140900000000.0\n        ],\n        \"semantic_type\": \"\",\n        \"description\": \"\"\n      }\n    },\n    {\n      \"column\": \"date_first_booking\",\n      \"properties\": {\n        \"dtype\": \"number\",\n        \"std\": null,\n        \"min\": null,\n        \"max\": null,\n        \"num_unique_values\": 0,\n        \"samples\": [],\n        \"semantic_type\": \"\",\n        \"description\": \"\"\n      }\n    },\n    {\n      \"column\": \"gender\",\n      \"properties\": {\n        \"dtype\": \"category\",\n        \"num_unique_values\": 4,\n        \"samples\": [],\n        \"semantic_type\": \"\",\n        \"description\": \"\"\n      }\n    },\n    {\n      \"column\": \"age\",\n      \"properties\": {\n        \"dtype\": \"number\",\n        \"std\": 74.44064668390001,\n        \"min\": 1.0,\n        \"max\": 2002.0,\n        \"num_unique_values\": 124,\n        \"samples\": [],\n        \"semantic_type\": \"\",\n        \"description\": \"\"\n      }\n    },\n    {\n      \"column\": \"signup_method\",\n      \"properties\": {\n        \"dtype\": \"category\",\n        \"num_unique_values\": 4,\n        \"samples\": [],\n        \"semantic_type\": \"\",\n        \"description\": \"\"\n      }\n    },\n    {\n      \"column\": \"signup_flow\",\n      \"properties\": {\n        \"dtype\": \"number\",\n        \"std\": 11,\n        \"min\": 0,\n        \"max\": 25,\n        \"num_unique_values\": 7,\n        \"samples\": [],\n        \"semantic_type\": \"\",\n        \"description\": \"\"\n      }\n    },\n    {\n      \"column\": \"language\",\n      \"properties\": {\n        \"dtype\": \"category\",\n        \"num_unique_values\": 24,\n        \"samples\": [],\n        \"semantic_type\": \"\",\n        \"description\": \"\"\n      }\n    },\n    {\n      \"column\": \"affiliate_channel\",\n      \"properties\": {\n        \"dtype\": \"category\",\n        \"num_unique_values\": 7,\n        \"samples\": [],\n        \"semantic_type\": \"\",\n        \"description\": \"\"\n      }\n    },\n    {\n      \"column\": \"affiliate_provider\",\n      \"properties\": {\n        \"dtype\": \"category\",\n        \"num_unique_values\": 17,\n        \"samples\": [],\n        \"semantic_type\": \"\",\n        \"description\": \"\"\n      }\n    },\n    {\n      \"column\": \"first_affiliate_tracked\",\n      \"properties\": {\n        \"dtype\": \"category\",\n        \"num_unique_values\": 7,\n        \"samples\": [],\n        \"semantic_type\": \"\",\n        \"description\": \"\"\n      }\n    },\n    {\n      \"column\": \"signup_app\",\n      \"properties\": {\n        \"dtype\": \"category\",\n        \"num_unique_values\": 4,\n        \"samples\": [],\n        \"semantic_type\": \"\",\n        \"description\": \"\"\n      }\n    },\n    {\n      \"column\": \"first_device_type\",\n      \"properties\": {\n        \"dtype\": \"category\",\n        \"num_unique_values\": 9,\n        \"samples\": [],\n        \"semantic_type\": \"\",\n        \"description\": \"\"\n      }\n    },\n    {\n      \"column\": \"first_browser\",\n      \"properties\": {\n        \"dtype\": \"category\",\n        \"num_unique_values\": 31,\n        \"samples\": [],\n        \"semantic_type\": \"\",\n        \"description\": \"\"\n      }\n    }\n  ]\n}"
            }
          },
          "metadata": {},
          "execution_count": 414
        }
      ]
    },
    {
      "cell_type": "code",
      "source": [
        "train_users.shape[0],test_users.shape[0]\n"
      ],
      "metadata": {
        "colab": {
          "base_uri": "https://localhost:8080/"
        },
        "id": "Q2LzqNSiBhhZ",
        "outputId": "7ad5d7cf-76f4-41cf-fd74-cd81df54644a"
      },
      "execution_count": null,
      "outputs": [
        {
          "output_type": "execute_result",
          "data": {
            "text/plain": [
              "(213451, 62096)"
            ]
          },
          "metadata": {},
          "execution_count": 415
        }
      ]
    },
    {
      "cell_type": "code",
      "source": [
        "train_users.shape[0] + test_users.shape[0]"
      ],
      "metadata": {
        "colab": {
          "base_uri": "https://localhost:8080/"
        },
        "id": "ca1zjboSCGIV",
        "outputId": "7abf8f8f-914c-40cc-c851-664cb815590d"
      },
      "execution_count": null,
      "outputs": [
        {
          "output_type": "execute_result",
          "data": {
            "text/plain": [
              "275547"
            ]
          },
          "metadata": {},
          "execution_count": 416
        }
      ]
    },
    {
      "cell_type": "code",
      "source": [
        "# concating the train and test dataset\n",
        "df = pd.concat((train_users, test_users), axis = 0, ignore_index = True, sort = True)"
      ],
      "metadata": {
        "id": "oAgHlxvQRh1u"
      },
      "execution_count": null,
      "outputs": []
    },
    {
      "cell_type": "code",
      "source": [
        "# checking for null values\n",
        "df.isnull().sum()"
      ],
      "metadata": {
        "colab": {
          "base_uri": "https://localhost:8080/"
        },
        "id": "L-K0krgERoMk",
        "outputId": "83b280c6-a8e7-42ba-ad4b-45a81b3e6323"
      },
      "execution_count": null,
      "outputs": [
        {
          "output_type": "execute_result",
          "data": {
            "text/plain": [
              "affiliate_channel               0\n",
              "affiliate_provider              0\n",
              "age                        116866\n",
              "country_destination         62096\n",
              "date_account_created            0\n",
              "date_first_booking         186639\n",
              "first_affiliate_tracked      6085\n",
              "first_browser                   0\n",
              "first_device_type               0\n",
              "gender                          0\n",
              "id                              0\n",
              "language                        0\n",
              "signup_app                      0\n",
              "signup_flow                     0\n",
              "signup_method                   0\n",
              "timestamp_first_active          0\n",
              "dtype: int64"
            ]
          },
          "metadata": {},
          "execution_count": 418
        }
      ]
    },
    {
      "cell_type": "code",
      "source": [
        "df.gender.unique()"
      ],
      "metadata": {
        "colab": {
          "base_uri": "https://localhost:8080/"
        },
        "id": "XNN4TianRvk8",
        "outputId": "5af82669-b301-4e53-f4be-f0424c764f92"
      },
      "execution_count": null,
      "outputs": [
        {
          "output_type": "execute_result",
          "data": {
            "text/plain": [
              "array(['-unknown-', 'MALE', 'FEMALE', 'OTHER'], dtype=object)"
            ]
          },
          "metadata": {},
          "execution_count": 419
        }
      ]
    },
    {
      "cell_type": "code",
      "source": [
        "df.first_browser.unique()"
      ],
      "metadata": {
        "colab": {
          "base_uri": "https://localhost:8080/"
        },
        "id": "OMnU5YR1R-Cd",
        "outputId": "33822db8-96d9-413f-a11f-e2a410d7ef9d"
      },
      "execution_count": null,
      "outputs": [
        {
          "output_type": "execute_result",
          "data": {
            "text/plain": [
              "array(['Chrome', 'IE', 'Firefox', 'Safari', '-unknown-', 'Mobile Safari',\n",
              "       'Chrome Mobile', 'RockMelt', 'Chromium', 'Android Browser',\n",
              "       'AOL Explorer', 'Palm Pre web browser', 'Mobile Firefox', 'Opera',\n",
              "       'TenFourFox', 'IE Mobile', 'Apple Mail', 'Silk', 'Camino', 'Arora',\n",
              "       'BlackBerry Browser', 'SeaMonkey', 'Iron', 'Sogou Explorer',\n",
              "       'IceWeasel', 'Opera Mini', 'SiteKiosk', 'Maxthon',\n",
              "       'Kindle Browser', 'CoolNovo', 'Conkeror', 'wOSBrowser',\n",
              "       'Google Earth', 'Crazy Browser', 'Mozilla', 'OmniWeb',\n",
              "       'PS Vita browser', 'NetNewsWire', 'CometBird', 'Comodo Dragon',\n",
              "       'Flock', 'Pale Moon', 'Avant Browser', 'Opera Mobile',\n",
              "       'Yandex.Browser', 'TheWorld Browser', 'SlimBrowser', 'Epic',\n",
              "       'Stainless', 'Googlebot', 'Outlook 2007', 'IceDragon', 'IBrowse',\n",
              "       'Nintendo Browser', 'UC Browser'], dtype=object)"
            ]
          },
          "metadata": {},
          "execution_count": 420
        }
      ]
    },
    {
      "cell_type": "code",
      "source": [
        "# replacing unknown with nan and later replace it by -1\n",
        "df.gender.replace(\"-unknown-\", np.nan, inplace=True)\n",
        "df.first_browser.replace(\"-unknown-\", np.nan, inplace=True)\n"
      ],
      "metadata": {
        "id": "y9wmT_JtSCLv"
      },
      "execution_count": null,
      "outputs": []
    },
    {
      "cell_type": "code",
      "source": [
        "df.drop(\"date_first_booking\", axis = 1, inplace=True)"
      ],
      "metadata": {
        "id": "tl1MU3CpSJzu"
      },
      "execution_count": null,
      "outputs": []
    },
    {
      "cell_type": "code",
      "source": [
        "df.age.describe()"
      ],
      "metadata": {
        "colab": {
          "base_uri": "https://localhost:8080/"
        },
        "id": "N4Enp0hqSYhy",
        "outputId": "01247d94-29c0-4b5f-ba6d-c61442054276"
      },
      "execution_count": null,
      "outputs": [
        {
          "output_type": "execute_result",
          "data": {
            "text/plain": [
              "count    158681.000000\n",
              "mean         47.145310\n",
              "std         142.629468\n",
              "min           1.000000\n",
              "25%          28.000000\n",
              "50%          33.000000\n",
              "75%          42.000000\n",
              "max        2014.000000\n",
              "Name: age, dtype: float64"
            ]
          },
          "metadata": {},
          "execution_count": 423
        }
      ]
    },
    {
      "cell_type": "code",
      "source": [
        "# checking age data\n",
        "df.loc[df['age']>1000]['age'].describe()"
      ],
      "metadata": {
        "colab": {
          "base_uri": "https://localhost:8080/"
        },
        "id": "MfZASAeaSdE3",
        "outputId": "35292a0e-0e6e-4d6e-b893-f592a09cd4b9"
      },
      "execution_count": null,
      "outputs": [
        {
          "output_type": "execute_result",
          "data": {
            "text/plain": [
              "count     828.000000\n",
              "mean     2007.117150\n",
              "std        22.219408\n",
              "min      1920.000000\n",
              "25%      2014.000000\n",
              "50%      2014.000000\n",
              "75%      2014.000000\n",
              "max      2014.000000\n",
              "Name: age, dtype: float64"
            ]
          },
          "metadata": {},
          "execution_count": 424
        }
      ]
    },
    {
      "cell_type": "code",
      "source": [
        "df.loc[df['age']<18]['age'].describe()"
      ],
      "metadata": {
        "colab": {
          "base_uri": "https://localhost:8080/"
        },
        "id": "IxWcWUQSStOJ",
        "outputId": "47cecf20-853c-4f20-a8cc-c08e388dc726"
      },
      "execution_count": null,
      "outputs": [
        {
          "output_type": "execute_result",
          "data": {
            "text/plain": [
              "count    188.000000\n",
              "mean      12.718085\n",
              "std        5.764569\n",
              "min        1.000000\n",
              "25%        5.000000\n",
              "50%       16.000000\n",
              "75%       17.000000\n",
              "max       17.000000\n",
              "Name: age, dtype: float64"
            ]
          },
          "metadata": {},
          "execution_count": 425
        }
      ]
    },
    {
      "cell_type": "code",
      "source": [
        "# setting age limits\n",
        "df_with_year = df['age'] > 1000\n",
        "df.loc[df_with_year, 'age'] = 2015 - df.loc[df_with_year, 'age']\n",
        "df.loc[df_with_year, 'age'].describe()"
      ],
      "metadata": {
        "colab": {
          "base_uri": "https://localhost:8080/"
        },
        "id": "d3AGiM_hSvaG",
        "outputId": "67eafa76-6e8b-451e-a281-a47fd9f3a914"
      },
      "execution_count": null,
      "outputs": [
        {
          "output_type": "execute_result",
          "data": {
            "text/plain": [
              "count    828.000000\n",
              "mean       7.882850\n",
              "std       22.219408\n",
              "min        1.000000\n",
              "25%        1.000000\n",
              "50%        1.000000\n",
              "75%        1.000000\n",
              "max       95.000000\n",
              "Name: age, dtype: float64"
            ]
          },
          "metadata": {},
          "execution_count": 426
        }
      ]
    },
    {
      "cell_type": "code",
      "source": [
        "df.loc[df.age > 95, 'age'] = np.nan\n",
        "df.loc[df.age < 18, 'age'] = np.nan"
      ],
      "metadata": {
        "id": "yoFgZdtHTJ4W"
      },
      "execution_count": null,
      "outputs": []
    },
    {
      "cell_type": "code",
      "source": [
        "# visualizing the ages\n",
        "plt.figure(figsize=(12,6))\n",
        "sns.distplot(df.age.dropna(), rug=True)\n",
        "plt.show()"
      ],
      "metadata": {
        "colab": {
          "base_uri": "https://localhost:8080/",
          "height": 544
        },
        "id": "TZYd39tVTLo4",
        "outputId": "b373d95a-8d4c-4ead-aba6-b9aa70fa516a"
      },
      "execution_count": null,
      "outputs": [
        {
          "output_type": "display_data",
          "data": {
            "text/plain": [
              "<Figure size 1200x600 with 1 Axes>"
            ],
            "image/png": "[encoded data removed]"
          },
          "metadata": {}
        }
      ]
    },
    {
      "cell_type": "code",
      "source": [
        "# visualizing the genders\n",
        "plt.figure(figsize=(12,6))\n",
        "sns.countplot(x='gender', data=df)\n",
        "plt.ylabel('Number of users')\n",
        "plt.title('Users gender distribution')\n",
        "plt.show()"
      ],
      "metadata": {
        "colab": {
          "base_uri": "https://localhost:8080/",
          "height": 564
        },
        "id": "8CsNNw57TekO",
        "outputId": "7dd29633-1885-4183-a2fc-f842e88261dd"
      },
      "execution_count": null,
      "outputs": [
        {
          "output_type": "display_data",
          "data": {
            "text/plain": [
              "<Figure size 1200x600 with 1 Axes>"
            ],
            "image/png": "[encoded data removed]"
          },
          "metadata": {}
        }
      ]
    },
    {
      "cell_type": "code",
      "source": [
        "# checking the countries user wants to travel\n",
        "plt.figure(figsize=(12,6))\n",
        "sns.countplot(x='country_destination', data=df)\n",
        "plt.xlabel('Destination Country')\n",
        "plt.ylabel('Number of users')\n",
        "plt.show()"
      ],
      "metadata": {
        "colab": {
          "base_uri": "https://localhost:8080/",
          "height": 542
        },
        "id": "d6_w0xLuTiNm",
        "outputId": "963a6fc2-be04-4c37-8c6e-5aacbf8089a0"
      },
      "execution_count": null,
      "outputs": [
        {
          "output_type": "display_data",
          "data": {
            "text/plain": [
              "<Figure size 1200x600 with 1 Axes>"
            ],
            "image/png": "[encoded data removed]"
          },
          "metadata": {}
        }
      ]
    },
    {
      "cell_type": "code",
      "source": [
        "plt.figure(figsize=(12,6))\n",
        "df_without_NDF = df[df['country_destination']!='NDF']\n",
        "sns.countplot(x='signup_method', data = df_without_NDF)\n",
        "plt.xlabel('Signup Method')\n",
        "plt.ylabel('Number of users')\n",
        "plt.title('Users sign up method distribution')\n",
        "plt.show()"
      ],
      "metadata": {
        "colab": {
          "base_uri": "https://localhost:8080/",
          "height": 564
        },
        "id": "xlUo1mOmTlnJ",
        "outputId": "500cf2f6-b783-45f2-afe8-fdc354152219"
      },
      "execution_count": null,
      "outputs": [
        {
          "output_type": "display_data",
          "data": {
            "text/plain": [
              "<Figure size 1200x600 with 1 Axes>"
            ],
            "image/png": "[encoded data removed]"
          },
          "metadata": {}
        }
      ]
    },
    {
      "cell_type": "code",
      "source": [
        "plt.figure(figsize=(12,6))\n",
        "sns.countplot(x='signup_app', data=df_without_NDF)\n",
        "plt.xlabel('Signup app')\n",
        "plt.ylabel('Number of users')\n",
        "plt.title('Signup app distribution')\n",
        "plt.show()"
      ],
      "metadata": {
        "colab": {
          "base_uri": "https://localhost:8080/",
          "height": 564
        },
        "id": "nCkrPT8nT_dO",
        "outputId": "04d36130-468b-4177-b51f-365e4cef1713"
      },
      "execution_count": null,
      "outputs": [
        {
          "output_type": "display_data",
          "data": {
            "text/plain": [
              "<Figure size 1200x600 with 1 Axes>"
            ],
            "image/png": "[encoded data removed]"
          },
          "metadata": {}
        }
      ]
    },
    {
      "cell_type": "code",
      "source": [
        "plt.figure(figsize=(12,6))\n",
        "sns.countplot(x='country_destination', data=df_without_NDF, hue='signup_app')\n",
        "plt.xlabel('Destination Country')\n",
        "plt.ylabel('Number of users')\n",
        "plt.title('Destination country based on signup app')\n",
        "plt.show()"
      ],
      "metadata": {
        "colab": {
          "base_uri": "https://localhost:8080/",
          "height": 564
        },
        "id": "MjQZS3VLULQU",
        "outputId": "a0212bf2-d38a-42a5-be4f-26b712d8e7b2"
      },
      "execution_count": null,
      "outputs": [
        {
          "output_type": "display_data",
          "data": {
            "text/plain": [
              "<Figure size 1200x600 with 1 Axes>"
            ],
            "image/png": "[encoded data removed]"
          },
          "metadata": {}
        }
      ]
    },
    {
      "cell_type": "code",
      "source": [
        "plt.figure(figsize=(12,6))\n",
        "sns.countplot(x='affiliate_channel', data=df_without_NDF)\n",
        "plt.xlabel('Affiliate channel')\n",
        "plt.ylabel('Number of users')\n",
        "plt.title('Affiliate channel distribution')\n",
        "plt.show()"
      ],
      "metadata": {
        "colab": {
          "base_uri": "https://localhost:8080/",
          "height": 564
        },
        "id": "KScpByYOUffg",
        "outputId": "4698b9e6-c8a0-4f92-af04-3b53b3677bad"
      },
      "execution_count": null,
      "outputs": [
        {
          "output_type": "display_data",
          "data": {
            "text/plain": [
              "<Figure size 1200x600 with 1 Axes>"
            ],
            "image/png": "[encoded data removed]"
          },
          "metadata": {}
        }
      ]
    },
    {
      "cell_type": "code",
      "source": [
        "# we can see the language preferred most as US is one of the most visited country\n",
        "plt.figure(figsize=(12,6))\n",
        "sns.countplot(x='language', data=df_without_NDF)\n",
        "plt.xlabel('language')\n",
        "plt.ylabel('Number of users')\n",
        "plt.title('Users language distribution')\n",
        "plt.show()"
      ],
      "metadata": {
        "colab": {
          "base_uri": "https://localhost:8080/",
          "height": 564
        },
        "id": "SMOMFwxWU0sS",
        "outputId": "199c2eae-c5a7-4aa9-eed6-5d530a6ef0df"
      },
      "execution_count": null,
      "outputs": [
        {
          "output_type": "display_data",
          "data": {
            "text/plain": [
              "<Figure size 1200x600 with 1 Axes>"
            ],
            "image/png": "[encoded data removed]"
          },
          "metadata": {}
        }
      ]
    },
    {
      "cell_type": "code",
      "source": [
        "# now checking the session dataset\n",
        "sessions = pd.read_csv(\"/content/drive/MyDrive/session.csv\")"
      ],
      "metadata": {
        "id": "I20JP3BgU48y"
      },
      "execution_count": null,
      "outputs": []
    },
    {
      "cell_type": "code",
      "source": [
        "sessions.user_id.shape"
      ],
      "metadata": {
        "colab": {
          "base_uri": "https://localhost:8080/"
        },
        "id": "MdmpMC04VPw0",
        "outputId": "ab939df6-668c-43d2-c491-a9f09b03c4d2"
      },
      "execution_count": null,
      "outputs": [
        {
          "output_type": "execute_result",
          "data": {
            "text/plain": [
              "(1048575,)"
            ]
          },
          "metadata": {},
          "execution_count": 437
        }
      ]
    },
    {
      "cell_type": "code",
      "source": [
        "sessions.isnull().sum()"
      ],
      "metadata": {
        "colab": {
          "base_uri": "https://localhost:8080/"
        },
        "id": "q5fIjTUaV1I6",
        "outputId": "743bcad7-a66a-420a-966e-16ff754b1ba0"
      },
      "execution_count": null,
      "outputs": [
        {
          "output_type": "execute_result",
          "data": {
            "text/plain": [
              "user_id            3563\n",
              "action            10834\n",
              "action_type      192193\n",
              "action_detail    192193\n",
              "device_type           0\n",
              "secs_elapsed      15566\n",
              "dtype: int64"
            ]
          },
          "metadata": {},
          "execution_count": 438
        }
      ]
    },
    {
      "cell_type": "code",
      "source": [
        "sessions.action_type.unique()"
      ],
      "metadata": {
        "colab": {
          "base_uri": "https://localhost:8080/"
        },
        "id": "ZvkXXlz1V4AI",
        "outputId": "408bb24b-d350-47be-8f7f-779081de7f18"
      },
      "execution_count": null,
      "outputs": [
        {
          "output_type": "execute_result",
          "data": {
            "text/plain": [
              "array([nan, 'click', 'data', 'view', 'submit', 'message_post',\n",
              "       '-unknown-', 'booking_request', 'partner_callback',\n",
              "       'booking_response'], dtype=object)"
            ]
          },
          "metadata": {},
          "execution_count": 439
        }
      ]
    },
    {
      "cell_type": "code",
      "source": [
        "sessions.action_type.replace('-unknown-', np.nan, inplace=True)\n",
        "sessions.action.value_counts().head(10)"
      ],
      "metadata": {
        "colab": {
          "base_uri": "https://localhost:8080/"
        },
        "id": "o8EOE5m2V_v7",
        "outputId": "f8b24ebc-78a6-4581-ca27-60ff6ed7f8a8"
      },
      "execution_count": null,
      "outputs": [
        {
          "output_type": "execute_result",
          "data": {
            "text/plain": [
              "action\n",
              "show                     211933\n",
              "search_results           106030\n",
              "personalize              104103\n",
              "lookup                    91942\n",
              "ajax_refresh_subtotal     70506\n",
              "index                     69437\n",
              "similar_listings          52997\n",
              "update                    40079\n",
              "search                    24993\n",
              "create                    17097\n",
              "Name: count, dtype: int64"
            ]
          },
          "metadata": {},
          "execution_count": 440
        }
      ]
    },
    {
      "cell_type": "code",
      "source": [
        "sessions.action_type.value_counts().head(10)"
      ],
      "metadata": {
        "colab": {
          "base_uri": "https://localhost:8080/"
        },
        "id": "6aJTbiMfWK2o",
        "outputId": "bfe6cebb-8d18-4648-bda2-f202def4f604"
      },
      "execution_count": null,
      "outputs": [
        {
          "output_type": "execute_result",
          "data": {
            "text/plain": [
              "action_type\n",
              "view                229423\n",
              "click               221489\n",
              "data                205841\n",
              "submit               69450\n",
              "message_post         11527\n",
              "booking_request       2234\n",
              "partner_callback       836\n",
              "booking_response         1\n",
              "Name: count, dtype: int64"
            ]
          },
          "metadata": {},
          "execution_count": 441
        }
      ]
    },
    {
      "cell_type": "code",
      "source": [
        "sessions.action_detail.value_counts().head(10)"
      ],
      "metadata": {
        "colab": {
          "base_uri": "https://localhost:8080/"
        },
        "id": "ugakKqQMWMkM",
        "outputId": "43b7766d-7efa-47af-be0a-6ae6e86a2232"
      },
      "execution_count": null,
      "outputs": [
        {
          "output_type": "execute_result",
          "data": {
            "text/plain": [
              "action_detail\n",
              "view_search_results            169055\n",
              "-unknown-                      115581\n",
              "wishlist_content_update        104103\n",
              "p3                              96319\n",
              "change_trip_characteristics     70506\n",
              "similar_listings                52997\n",
              "update_listing                  28934\n",
              "user_profile                    24141\n",
              "header_userpic                  16998\n",
              "user_wishlists                  14315\n",
              "Name: count, dtype: int64"
            ]
          },
          "metadata": {},
          "execution_count": 442
        }
      ]
    },
    {
      "cell_type": "code",
      "source": [
        "plt.figure(figsize=(18,6))\n",
        "sns.countplot(x='device_type', data=sessions)\n",
        "plt.xlabel('Device type')\n",
        "plt.ylabel('Number of sessions')\n",
        "plt.title('Device type distribution')\n",
        "plt.xticks(rotation=90)\n",
        "plt.show()"
      ],
      "metadata": {
        "colab": {
          "base_uri": "https://localhost:8080/",
          "height": 755
        },
        "id": "XsYYBR-cWSBp",
        "outputId": "02a2822f-5383-4ccd-d775-323da1901b2d"
      },
      "execution_count": null,
      "outputs": [
        {
          "output_type": "display_data",
          "data": {
            "text/plain": [
              "<Figure size 1800x600 with 1 Axes>"
            ],
            "image/png": "[encoded data removed]"
          },
          "metadata": {}
        }
      ]
    },
    {
      "cell_type": "code",
      "source": [
        "session_booked = pd.merge(df_without_NDF, sessions, how = 'left', left_on = 'id', right_on = 'user_id')"
      ],
      "metadata": {
        "id": "1fwsmO9OWXHv"
      },
      "execution_count": null,
      "outputs": []
    },
    {
      "cell_type": "code",
      "source": [
        "df['date_account_created'] = pd.to_datetime(df['date_account_created'])\n",
        "df['timestamp_first_active'] = pd.to_datetime(df['timestamp_first_active'], format='%Y%m%d%H%M%S', errors='coerce')\n",
        "df['weekday_account_created'] = df.date_account_created.dt.day_name()\n",
        "df['day_account_created'] = df.date_account_created.dt.day\n",
        "df['month_account_created'] = df.date_account_created.dt.month\n",
        "df['year_account_created'] = df.date_account_created.dt.year\n",
        "df['weekday_first_active'] = df.timestamp_first_active.dt.day_name()\n",
        "df['day_first_active'] = df.timestamp_first_active.dt.day\n",
        "df['month_first_active'] = df.timestamp_first_active.dt.month\n",
        "df['year_first_active'] = df.timestamp_first_active.dt.year"
      ],
      "metadata": {
        "id": "i2tF49PzXmP2"
      },
      "execution_count": null,
      "outputs": []
    },
    {
      "cell_type": "code",
      "source": [
        "df['time_lag'] = (df['date_account_created'] - df['timestamp_first_active'])\n",
        "df['time_lag'] = df['time_lag'].astype('timedelta64[ns]').apply(lambda l: l.days)\n"
      ],
      "metadata": {
        "id": "YddbnPnRX9lm"
      },
      "execution_count": null,
      "outputs": []
    },
    {
      "cell_type": "code",
      "source": [
        "# dropping the uncessary columns\n",
        "df.drop( ['date_account_created', 'timestamp_first_active'], axis=1, inplace=True)"
      ],
      "metadata": {
        "id": "4rkv_7voCgGr"
      },
      "execution_count": null,
      "outputs": []
    },
    {
      "cell_type": "code",
      "source": [
        "df['age'].fillna(-1, inplace=True)"
      ],
      "metadata": {
        "id": "p7h7SPbLYA06"
      },
      "execution_count": null,
      "outputs": []
    },
    {
      "cell_type": "code",
      "source": [
        "#  grouping by the columns for making dataset easy to train\n",
        "sessions.rename(columns = {'user_id': 'id'}, inplace=True)\n",
        "action_count = sessions.groupby(['id', 'action'])['secs_elapsed'].agg(len).unstack()\n",
        "action_type_count = sessions.groupby(['id', 'action_type'])['secs_elapsed'].agg(len).unstack()\n",
        "action_detail_count = sessions.groupby(['id', 'action_detail'])['secs_elapsed'].agg(len).unstack()\n",
        "device_type_sum = sessions.groupby(['id', 'device_type'])['secs_elapsed'].agg(sum).unstack()\n",
        "sessions_data = pd.concat([action_count, action_type_count, action_detail_count, device_type_sum],axis=1)\n",
        "sessions_data.columns = sessions_data.columns.map(lambda x: str(x) + '_count')\n"
      ],
      "metadata": {
        "id": "usJuY9H4YErQ"
      },
      "execution_count": null,
      "outputs": []
    },
    {
      "cell_type": "code",
      "source": [
        "# Most used device\n",
        "sessions_data['most_used_device'] = sessions.groupby('id')['device_type'].max()\n",
        "print('There were', sessions.shape[0], 'recorded sessions in which there were', sessions.id.nunique(), 'unique users.')"
      ],
      "metadata": {
        "colab": {
          "base_uri": "https://localhost:8080/"
        },
        "id": "LSQVA2cDDx_H",
        "outputId": "edd24444-3ebd-4bcb-8036-f03e04a034d4"
      },
      "execution_count": null,
      "outputs": [
        {
          "output_type": "stream",
          "name": "stdout",
          "text": [
            "There were 1048575 recorded sessions in which there were 15500 unique users.\n"
          ]
        }
      ]
    },
    {
      "cell_type": "code",
      "source": [
        "secs_elapsed = sessions.groupby('id')['secs_elapsed']\n",
        "secs_elapsed = secs_elapsed.agg(\n",
        "    [\n",
        "        np.sum,\n",
        "        np.mean,\n",
        "        np.min,\n",
        "        np.max,\n",
        "        np.median,\n",
        "        np.std,\n",
        "        np.var,\n",
        "        lambda x: (x > 86400).sum(),\n",
        "        lambda x: (x > 300000).sum(),\n",
        "        lambda x: (x < 3600).sum(),\n",
        "        np.count_nonzero\n",
        "    ]\n",
        ")\n",
        "secs_elapsed.columns = [\n",
        "    'secs_elapsed_sum',\n",
        "    'secs_elapsed_mean',\n",
        "    'secs_elapsed_min',\n",
        "    'secs_elapsed_max',\n",
        "    'secs_elapsed_median',\n",
        "    'secs_elapsed_std',\n",
        "    'secs_elapsed_var',\n",
        "    'day_pauses',\n",
        "    'long_pauses',\n",
        "    'short_pauses',\n",
        "    'session_length'\n",
        "]\n",
        "secs_elapsed.reset_index(inplace=True)\n",
        "sessions_secs_elapsed = pd.merge(sessions_data, secs_elapsed, on='id', how='left')\n",
        "df = pd.merge(df, sessions_secs_elapsed, on='id', how = 'left')\n",
        "print('There are', df.id.nunique(), 'users from the entire user data set that have session information.')"
      ],
      "metadata": {
        "colab": {
          "base_uri": "https://localhost:8080/"
        },
        "id": "3lXCYEKyztq7",
        "outputId": "f871b901-743c-4384-d36a-7e596a8c3597"
      },
      "execution_count": null,
      "outputs": [
        {
          "output_type": "stream",
          "name": "stdout",
          "text": [
            "There are 275547 users from the entire user data set that have session information.\n"
          ]
        }
      ]
    },
    {
      "cell_type": "code",
      "source": [
        "# some category features\n",
        "categorical_features = ['gender', 'signup_method', 'signup_flow', 'language','affiliate_channel', 'affiliate_provider', 'first_affiliate_tracked', 'signup_app', 'first_device_type', 'first_browser', 'weekday_account_created', 'weekday_first_active']\n",
        "df = pd.get_dummies(df, columns=categorical_features)\n",
        "df.set_index('id', inplace=True)\n"
      ],
      "metadata": {
        "id": "LsgVvZ68a9QR"
      },
      "execution_count": null,
      "outputs": []
    },
    {
      "cell_type": "markdown",
      "source": [
        "**Training the dataset**"
      ],
      "metadata": {
        "id": "BkQdDbIVRXzZ"
      }
    },
    {
      "cell_type": "code",
      "source": [
        "train_df = df.loc[train_users['id']]\n",
        "train_df.reset_index(inplace=True)\n",
        "train_df.fillna(-1, inplace=True)\n"
      ],
      "metadata": {
        "id": "ZyzvKqZmbD_o"
      },
      "execution_count": null,
      "outputs": []
    },
    {
      "cell_type": "code",
      "source": [
        "#Creating target variable for the train dataset\n",
        "y_train = train_df['country_destination']\n",
        "train_df.drop(['country_destination', 'id'], axis=1, inplace=True)"
      ],
      "metadata": {
        "id": "AM_t2khQEDwj"
      },
      "execution_count": null,
      "outputs": []
    },
    {
      "cell_type": "code",
      "source": [
        "from sklearn.preprocessing import LabelEncoder\n",
        "label_encoder = LabelEncoder()\n",
        "encoded_y_train = label_encoder.fit_transform(y_train)\n",
        "encoded_y_train"
      ],
      "metadata": {
        "colab": {
          "base_uri": "https://localhost:8080/"
        },
        "id": "QjdSfv1iEQAR",
        "outputId": "5cd83111-2e4a-4978-bf6f-f4773cf2eafe"
      },
      "execution_count": null,
      "outputs": [
        {
          "output_type": "execute_result",
          "data": {
            "text/plain": [
              "array([ 7,  7, 10, ...,  7,  7,  7])"
            ]
          },
          "metadata": {},
          "execution_count": 455
        }
      ]
    },
    {
      "cell_type": "code",
      "source": [
        "test_df = df.loc[test_users['id']].drop('country_destination', axis=1)\n",
        "test_df.reset_index(inplace=True)\n",
        "id_test = test_df['id']\n",
        "test_df.drop('id', axis=1, inplace=True)"
      ],
      "metadata": {
        "id": "mNMLPiO5jepO"
      },
      "execution_count": null,
      "outputs": []
    },
    {
      "cell_type": "code",
      "source": [
        "duplicate_columns = train_df.columns[train_df.columns.duplicated()]\n",
        "duplicate_columns"
      ],
      "metadata": {
        "colab": {
          "base_uri": "https://localhost:8080/"
        },
        "id": "Gk3IUWU7ji0r",
        "outputId": "95f3efcb-b39e-4ea4-9ec1-f47ccfca2057"
      },
      "execution_count": null,
      "outputs": [
        {
          "output_type": "execute_result",
          "data": {
            "text/plain": [
              "Index(['at_checkpoint_count', 'booking_count', 'cancellation_policies_count',\n",
              "       'change_password_count', 'confirm_email_count', 'dashboard_count',\n",
              "       'email_wishlist_count', 'forgot_password_count', 'header_userpic_count',\n",
              "       'login_count', 'login_modal_count', 'manage_listing_count',\n",
              "       'message_post_count', 'notifications_count',\n",
              "       'payment_instruments_count', 'pending_count', 'place_worth_count',\n",
              "       'remove_dashboard_alert_count', 'request_new_confirm_email_count',\n",
              "       'set_password_count', 'signup_modal_count', 'similar_listings_count',\n",
              "       'toggle_archived_thread_count', 'toggle_starred_thread_count',\n",
              "       '-unknown-_count'],\n",
              "      dtype='object')"
            ]
          },
          "metadata": {},
          "execution_count": 457
        }
      ]
    },
    {
      "cell_type": "code",
      "source": [
        "train_df = train_df.loc[:,~train_df.columns.duplicated()]"
      ],
      "metadata": {
        "id": "WuaO61OZjokG"
      },
      "execution_count": null,
      "outputs": []
    },
    {
      "cell_type": "code",
      "source": [
        "test_df.columns[test_df.columns.duplicated()]"
      ],
      "metadata": {
        "colab": {
          "base_uri": "https://localhost:8080/"
        },
        "id": "x1e8mgDrjrx8",
        "outputId": "190b7474-001d-496e-d452-7d1a11a7963a"
      },
      "execution_count": null,
      "outputs": [
        {
          "output_type": "execute_result",
          "data": {
            "text/plain": [
              "Index(['at_checkpoint_count', 'booking_count', 'cancellation_policies_count',\n",
              "       'change_password_count', 'confirm_email_count', 'dashboard_count',\n",
              "       'email_wishlist_count', 'forgot_password_count', 'header_userpic_count',\n",
              "       'login_count', 'login_modal_count', 'manage_listing_count',\n",
              "       'message_post_count', 'notifications_count',\n",
              "       'payment_instruments_count', 'pending_count', 'place_worth_count',\n",
              "       'remove_dashboard_alert_count', 'request_new_confirm_email_count',\n",
              "       'set_password_count', 'signup_modal_count', 'similar_listings_count',\n",
              "       'toggle_archived_thread_count', 'toggle_starred_thread_count',\n",
              "       '-unknown-_count'],\n",
              "      dtype='object')"
            ]
          },
          "metadata": {},
          "execution_count": 459
        }
      ]
    },
    {
      "cell_type": "markdown",
      "source": [],
      "metadata": {
        "id": "6Q0M9MMmR51k"
      }
    },
    {
      "cell_type": "code",
      "source": [
        "test_df = test_df.loc[:,~test_df.columns.duplicated()]"
      ],
      "metadata": {
        "id": "x_iDn7tGjvFr"
      },
      "execution_count": null,
      "outputs": []
    },
    {
      "cell_type": "markdown",
      "source": [
        "**MODEL** **SELECTION**"
      ],
      "metadata": {
        "id": "92P2fsA4RxmJ"
      }
    },
    {
      "cell_type": "code",
      "source": [
        "import xgboost as xgb\n",
        "# Convert 'most_used_device' column to 'category' dtype\n",
        "train_df['most_used_device'] = train_df['most_used_device'].astype('category')\n",
        "xg_train = xgb.DMatrix(train_df, label=encoded_y_train, enable_categorical=True) #enable_categorical is set to True\n",
        "#Specifying the hyperparameters\n",
        "params = {'max_depth': 10,\n",
        "    'learning_rate': 1,\n",
        "    'n_estimators': 5,\n",
        "    'objective': 'multi:softprob',\n",
        "    'num_class': 12,\n",
        "    'gamma': 0,\n",
        "    'min_child_weight': 1,\n",
        "    'max_delta_step': 0,\n",
        "    'subsample': 1,\n",
        "    'colsample_bytree': 1,\n",
        "    'colsample_bylevel': 1,\n",
        "    'reg_alpha': 0,\n",
        "    'reg_lambda': 1,\n",
        "    'scale_pos_weight': 1,\n",
        "    'base_score': 0.5,\n",
        "    'missing': None,\n",
        "    'nthread': 4,\n",
        "    'seed': 42\n",
        "          }\n",
        "num_boost_round = 5\n",
        "print(\"Train a XGBoost model\")\n",
        "gbm = xgb.train(params, xg_train, num_boost_round)\n"
      ],
      "metadata": {
        "colab": {
          "base_uri": "https://localhost:8080/"
        },
        "id": "t8tKrPHqlh2V",
        "outputId": "94b9264b-f524-4b04-f0a0-6f118b0e1c7c"
      },
      "execution_count": null,
      "outputs": [
        {
          "output_type": "stream",
          "name": "stdout",
          "text": [
            "Train a XGBoost model\n"
          ]
        }
      ]
    },
    {
      "cell_type": "code",
      "source": [
        "test_df['most_used_device'] = test_df['most_used_device'].astype('category')\n",
        "\n",
        "xg_train = xgb.DMatrix(train_df, label=encoded_y_train, enable_categorical=True)\n",
        "xg_test = xgb.DMatrix(test_df, enable_categorical=True)"
      ],
      "metadata": {
        "id": "8A5D7AZ55R_a"
      },
      "execution_count": null,
      "outputs": []
    },
    {
      "cell_type": "code",
      "source": [
        "y_pred_probs = gbm.predict(xg_test)"
      ],
      "metadata": {
        "id": "jHks8olh4xCD"
      },
      "execution_count": null,
      "outputs": []
    },
    {
      "cell_type": "code",
      "source": [
        "y_pred = np.argmax(y_pred_probs, axis=1)"
      ],
      "metadata": {
        "id": "1LFN9U7G4ytE"
      },
      "execution_count": null,
      "outputs": []
    },
    {
      "cell_type": "code",
      "source": [
        "predicted_countries = label_encoder.inverse_transform(y_pred)"
      ],
      "metadata": {
        "id": "KhBsfOno42Ea"
      },
      "execution_count": null,
      "outputs": []
    },
    {
      "cell_type": "code",
      "source": [
        "test_df['most_used_device'] = test_df['most_used_device'].astype('category')\n",
        "\n",
        "# Now predict using the modified test_df\n",
        "y_pred = gbm.predict(xgb.DMatrix(test_df, enable_categorical=True))\n",
        "\n"
      ],
      "metadata": {
        "id": "H7Kr_BlLuia3"
      },
      "execution_count": null,
      "outputs": []
    },
    {
      "cell_type": "markdown",
      "source": [
        "**MODEL EVALUATION**"
      ],
      "metadata": {
        "id": "euwAxkVxSBuU"
      }
    },
    {
      "cell_type": "code",
      "source": [
        "from sklearn.metrics import accuracy_score"
      ],
      "metadata": {
        "id": "ejLjYcU28Y0_"
      },
      "execution_count": null,
      "outputs": []
    },
    {
      "cell_type": "code",
      "source": [
        "# Calculate the accuracy of the model on the training data\n",
        "y_train_pred_probs = gbm.predict(xg_train) # Predict on the training data\n",
        "y_train_pred = np.argmax(y_train_pred_probs, axis=1) # Get the predicted classes\n",
        "accuracy = accuracy_score(y_train_pred, encoded_y_train) # Calculate the accuracy\n",
        "print(f\"Accuracy on training data: {accuracy}\")"
      ],
      "metadata": {
        "colab": {
          "base_uri": "https://localhost:8080/"
        },
        "id": "rWQs2m9p8_7C",
        "outputId": "3a1d44e9-392c-44c1-b66e-c47cf49d5f78"
      },
      "execution_count": null,
      "outputs": [
        {
          "output_type": "stream",
          "name": "stdout",
          "text": [
            "Accuracy on training data: 0.654309419960553\n"
          ]
        }
      ]
    },
    {
      "cell_type": "code",
      "source": [
        "# function to preprocess the user input\n",
        "def preprocess_input(user_input, train_df):\n",
        "    input_df = pd.DataFrame([user_input])\n",
        "\n",
        "    # Ensure 'most_used_device' is of type 'category'\n",
        "    input_df['most_used_device'] = input_df['most_used_device'].astype('category')\n",
        "\n",
        "    # One-hot encoder\n",
        "    categorical_columns = ['gender', 'signup_method', 'language', 'affiliate_channel', 'affiliate_provider',\n",
        "                           'first_affiliate_tracked', 'signup_app', 'first_device_type', 'first_browser',\n",
        "                           'most_used_device']\n",
        "    input_df = pd.get_dummies(input_df, columns=categorical_columns, drop_first=True)\n",
        "\n",
        "    input_df = input_df.reindex(columns=train_df.columns, fill_value=0)\n",
        "\n",
        "    return input_df\n",
        "\n",
        "# user input\n",
        "user_input = {\n",
        "    'gender': 'female',\n",
        "    'age': 30,\n",
        "    'signup_method': 'basic',\n",
        "    'language': 'en',\n",
        "    'affiliate_channel': 'direct',\n",
        "    'affiliate_provider': 'direct',\n",
        "    'first_affiliate_tracked': 'linked',\n",
        "    'signup_app': 'Web',\n",
        "    'first_device_type': 'Mac Desktop',\n",
        "    'first_browser': 'Chrome',\n",
        "    'most_used_device': 'Mac Desktop',\n",
        "    'secs_elapsed_sum': 150000,\n",
        "    'secs_elapsed_mean': 500,\n",
        "    'secs_elapsed_count': 200,\n",
        "    'unique_actions': 5,\n",
        "    'unique_action_types': 1,\n",
        "    'unique_action_details': 4,\n",
        "    'unique_device_types': 2\n",
        "}\n",
        "\n",
        "\n",
        "\n",
        "\n",
        "# # Predict using the modified test_df\n",
        "y_pred = gbm.predict(xgb.DMatrix(test_df, enable_categorical=True))\n",
        "\n",
        "# # Convert probabilities to class labels\n",
        "predicted_classes = np.argmax(y_pred, axis=1)\n",
        "\n",
        "# Now use predicted_classes for inverse_transform\n",
        "predicted_country = label_encoder.inverse_transform(predicted_classes)\n",
        "\n",
        "print(f'Predicted Country Destination: {predicted_country[0]}')\n"
      ],
      "metadata": {
        "colab": {
          "base_uri": "https://localhost:8080/"
        },
        "id": "ue6dyokIGqHU",
        "outputId": "d39a73a1-d0c2-4541-c0eb-80d2d3dac064"
      },
      "execution_count": null,
      "outputs": [
        {
          "output_type": "stream",
          "name": "stdout",
          "text": [
            "Predicted Country Destination: AU\n"
          ]
        }
      ]
    },
    {
      "cell_type": "code",
      "source": [
        "#  user input\n",
        "user_input = {\n",
        "    'gender': 'male',\n",
        "    'age': 35,\n",
        "    'signup_method': 'facebook',\n",
        "    'language': 'en',\n",
        "    'affiliate_channel': 'direct',\n",
        "    'affiliate_provider': 'direct',\n",
        "    'first_affiliate_tracked': 'linked',\n",
        "    'signup_app': 'Web',\n",
        "    'first_device_type': 'Mac Desktop',\n",
        "    'first_browser': 'Chrome',\n",
        "    'most_used_device': 'Mac Desktop',\n",
        "    'secs_elapsed_sum': 150000,\n",
        "    'secs_elapsed_mean': 500,\n",
        "    'secs_elapsed_count': 300,\n",
        "    'unique_actions': 5,\n",
        "    'unique_action_types': 3,\n",
        "    'unique_action_details': 4,\n",
        "    'unique_device_types': 2\n",
        "}\n",
        "\n",
        "\n",
        "\n",
        "\n",
        "\n",
        "# Preprocess the user input\n",
        "preprocessed_input = preprocess_input(user_input, train_df)\n",
        "\n",
        "# Convert preprocessed input to DMatrix\n",
        "xg_input = xgb.DMatrix(preprocessed_input, enable_categorical=True)\n",
        "\n",
        "# Predict using the model\n",
        "y_pred_probs = gbm.predict(xg_input)\n",
        "y_pred = np.argmax(y_pred_probs, axis=1)\n",
        "\n",
        "\n",
        "predicted_country = label_encoder.inverse_transform(y_pred)\n",
        "\n",
        "print(f'Predicted Country Destination: {predicted_country[0]}')"
      ],
      "metadata": {
        "colab": {
          "base_uri": "https://localhost:8080/"
        },
        "id": "w9BMFhQ_Vb5b",
        "outputId": "f4ad2322-4227-4fef-b2b8-0c81b052fb7f"
      },
      "execution_count": null,
      "outputs": [
        {
          "output_type": "stream",
          "name": "stdout",
          "text": [
            "Predicted Country Destination: US\n"
          ]
        }
      ]
    }
  ]
}